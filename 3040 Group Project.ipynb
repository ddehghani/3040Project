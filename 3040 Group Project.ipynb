{
 "cells": [
  {
   "cell_type": "code",
   "execution_count": 12,
   "id": "bdcdbb69",
   "metadata": {},
   "outputs": [],
   "source": [
    "import numpy as np # mathematical operations and algebra\n",
    "import pandas as pd # data processing, CSV file I/O\n",
    "import seaborn as sns # Fancier visualizations\n",
    "sns.set(color_codes=True)\n",
    "import matplotlib.pyplot as plt # visualization library\n",
    "import os\n",
    "import scipy.stats as stats"
   ]
  },
  {
   "cell_type": "code",
   "execution_count": 13,
   "id": "835a47d2",
   "metadata": {},
   "outputs": [],
   "source": [
    "# import data\n",
    "data = pd.read_csv (r'diabetes_data_upload.csv')\n",
    "df = pd.DataFrame(data, columns= ['Age','Gender','Polyuria','Polydipsia','sudden weight loss','weakness','Polyphagia','Genital thrush','visual blurring','Itching','Irritability','delayed healing','partial paresis','muscle stiffness','Alopecia','Obesity','class'])"
   ]
  },
  {
   "cell_type": "code",
   "execution_count": 19,
   "id": "7fc026a5",
   "metadata": {},
   "outputs": [
    {
     "name": "stdout",
     "output_type": "stream",
     "text": [
      "No missing values in data set: True\n"
     ]
    }
   ],
   "source": [
    "# data cleaning\n",
    "print(f'No missing values in data set: {not df.isnull().values.any()}')\n",
    "\n",
    "#since we have no missing values, we can proceed with the next step"
   ]
  },
  {
   "cell_type": "code",
   "execution_count": null,
   "id": "cf82f488",
   "metadata": {},
   "outputs": [],
   "source": [
    "# duplicate data"
   ]
  }
 ],
 "metadata": {
  "kernelspec": {
   "display_name": "Python 3 (ipykernel)",
   "language": "python",
   "name": "python3"
  },
  "language_info": {
   "codemirror_mode": {
    "name": "ipython",
    "version": 3
   },
   "file_extension": ".py",
   "mimetype": "text/x-python",
   "name": "python",
   "nbconvert_exporter": "python",
   "pygments_lexer": "ipython3",
   "version": "3.9.7"
  }
 },
 "nbformat": 4,
 "nbformat_minor": 5
}
