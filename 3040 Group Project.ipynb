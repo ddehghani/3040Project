{
 "cells": [
  {
   "cell_type": "code",
   "execution_count": 1,
   "id": "bdcdbb69",
   "metadata": {},
   "outputs": [],
   "source": [
    "import numpy as np # mathematical operations and algebra\n",
    "import pandas as pd # data processing, CSV file I/O\n",
    "import seaborn as sns # Fancier visualizations\n",
    "sns.set(color_codes=True)\n",
    "import matplotlib.pyplot as plt # visualization library\n",
    "import os\n",
    "import scipy.stats as stats"
   ]
  },
  {
   "cell_type": "code",
   "execution_count": 2,
   "id": "835a47d2",
   "metadata": {},
   "outputs": [],
   "source": [
    "# import data\n",
    "data = pd.read_csv (r'diabetes_data_upload.csv')\n",
    "df = pd.DataFrame(data, columns= ['Age','Gender','Polyuria','Polydipsia','sudden weight loss','weakness','Polyphagia','Genital thrush','visual blurring','Itching','Irritability','delayed healing','partial paresis','muscle stiffness','Alopecia','Obesity','class'])"
   ]
  },
  {
   "cell_type": "code",
   "execution_count": 3,
   "id": "7fc026a5",
   "metadata": {},
   "outputs": [
    {
     "name": "stdout",
     "output_type": "stream",
     "text": [
      "No missing values in data set: True\n"
     ]
    }
   ],
   "source": [
    "# data cleaning\n",
    "print(f'No missing values in data set: {not df.isnull().values.any()}')\n",
    "\n",
    "#since we have no missing values, we can proceed with the next step"
   ]
  },
  {
   "cell_type": "code",
   "execution_count": 4,
   "id": "cf82f488",
   "metadata": {},
   "outputs": [
    {
     "name": "stdout",
     "output_type": "stream",
     "text": [
      "The total number of dumplicated instances are: 269\n",
      "Number of duplicate instances counting the original is 407\n",
      "Number of duplicate instances NOT counting the original is 305\n",
      "     Age Gender Polyuria Polydipsia sudden weight loss weakness Polyphagia  \\\n",
      "374   27   Male       No         No                 No       No         No   \n",
      "286   27   Male       No         No                 No       No         No   \n",
      "465   27   Male       No         No                 No       No         No   \n",
      "474   27   Male       No         No                 No       No         No   \n",
      "\n",
      "    Genital thrush visual blurring Itching Irritability delayed healing  \\\n",
      "374             No              No      No           No              No   \n",
      "286             No              No      No           No              No   \n",
      "465             No              No      No           No              No   \n",
      "474             No              No      No           No              No   \n",
      "\n",
      "    partial paresis muscle stiffness Alopecia Obesity     class  \n",
      "374              No               No       No      No  Negative  \n",
      "286              No               No       No      No  Negative  \n",
      "465              No               No       No      No  Negative  \n",
      "474              No               No       No      No  Negative  \n"
     ]
    }
   ],
   "source": [
    "# duplicate data\n",
    "print(f'The total number of dumplicated instances are: {sum(df.duplicated())}')\n",
    "# at first it seems like 269 out of 520 is a lot of duplicated values\n",
    "\n",
    "# lets drop age as it is an obvious tie breaker between two rows\n",
    "df_without_age = df.drop(['Age'], axis=1)\n",
    "print(f'Number of duplicate instances counting the original is {sum(df_without_age.duplicated(keep=False))}')\n",
    "print(f'Number of duplicate instances NOT counting the original is {sum(df_without_age.duplicated())}')\n",
    "\n",
    "# so most of these instances are simply copies of a few 'common' cases. This can be illustrated if we take a look at some of these instances\n",
    "duplicated_data = df[df.duplicated()].sort_values(by='Age')\n",
    "print(duplicated_data[1:5])"
   ]
  }
 ],
 "metadata": {
  "kernelspec": {
   "display_name": "Python 3 (ipykernel)",
   "language": "python",
   "name": "python3"
  },
  "language_info": {
   "codemirror_mode": {
    "name": "ipython",
    "version": 3
   },
   "file_extension": ".py",
   "mimetype": "text/x-python",
   "name": "python",
   "nbconvert_exporter": "python",
   "pygments_lexer": "ipython3",
   "version": "3.9.7"
  }
 },
 "nbformat": 4,
 "nbformat_minor": 5
}
