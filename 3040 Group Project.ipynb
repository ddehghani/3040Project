{
 "cells": [
  {
   "cell_type": "code",
   "execution_count": 1,
   "id": "bdcdbb69",
   "metadata": {},
   "outputs": [],
   "source": [
    "import numpy as np # mathematical operations and algebra\n",
    "import pandas as pd # data processing, CSV file I/O\n",
    "import seaborn as sns # Fancier visualizations\n",
    "sns.set(color_codes=True)\n",
    "import matplotlib.pyplot as plt # visualization library\n",
    "import os\n",
    "import scipy.stats as stats"
   ]
  },
  {
   "cell_type": "code",
   "execution_count": 2,
   "id": "835a47d2",
   "metadata": {},
   "outputs": [],
   "source": [
    "# import data\n",
    "data = pd.read_csv (r'diabetes_data_upload.csv')\n",
    "labels = ['Age','Gender','Polyuria','Polydipsia','sudden weight loss','weakness','Polyphagia','Genital thrush','visual blurring','Itching','Irritability','delayed healing','partial paresis','muscle stiffness','Alopecia','Obesity','class']\n",
    "df = pd.DataFrame(data, columns= labels)"
   ]
  },
  {
   "cell_type": "code",
   "execution_count": 3,
   "id": "7fc026a5",
   "metadata": {},
   "outputs": [
    {
     "name": "stdout",
     "output_type": "stream",
     "text": [
      "No missing values in data set: True\n"
     ]
    }
   ],
   "source": [
    "# data cleaning\n",
    "print(f'No missing values in data set: {not df.isnull().values.any()}')\n",
    "\n",
    "#since we have no missing values, we can proceed with the next step"
   ]
  },
  {
   "cell_type": "code",
   "execution_count": 4,
   "id": "cf82f488",
   "metadata": {},
   "outputs": [
    {
     "name": "stdout",
     "output_type": "stream",
     "text": [
      "The total number of dumplicated instances are: 269\n",
      "Number of duplicate instances counting the original is 407\n",
      "Number of duplicate instances NOT counting the original is 305\n",
      "     Age Gender Polyuria Polydipsia sudden weight loss weakness Polyphagia  \\\n",
      "374   27   Male       No         No                 No       No         No   \n",
      "286   27   Male       No         No                 No       No         No   \n",
      "465   27   Male       No         No                 No       No         No   \n",
      "474   27   Male       No         No                 No       No         No   \n",
      "\n",
      "    Genital thrush visual blurring Itching Irritability delayed healing  \\\n",
      "374             No              No      No           No              No   \n",
      "286             No              No      No           No              No   \n",
      "465             No              No      No           No              No   \n",
      "474             No              No      No           No              No   \n",
      "\n",
      "    partial paresis muscle stiffness Alopecia Obesity     class  \n",
      "374              No               No       No      No  Negative  \n",
      "286              No               No       No      No  Negative  \n",
      "465              No               No       No      No  Negative  \n",
      "474              No               No       No      No  Negative  \n"
     ]
    }
   ],
   "source": [
    "# duplicate data\n",
    "print(f'The total number of dumplicated instances are: {sum(df.duplicated())}')\n",
    "# at first it seems like 269 out of 520 is a lot of duplicated values\n",
    "\n",
    "# lets drop age as it is an obvious tie breaker between two rows\n",
    "df_without_age = df.drop(['Age'], axis=1)\n",
    "print(f'Number of duplicate instances counting the original is {sum(df_without_age.duplicated(keep=False))}')\n",
    "print(f'Number of duplicate instances NOT counting the original is {sum(df_without_age.duplicated())}')\n",
    "\n",
    "# so most of these instances are simply copies of a few 'common' cases. This can be illustrated if we take a look at some of these instances\n",
    "duplicated_data = df[df.duplicated()].sort_values(by='Age')\n",
    "print(duplicated_data[1:5])"
   ]
  },
  {
   "cell_type": "code",
   "execution_count": 5,
   "metadata": {},
   "outputs": [
    {
     "name": "stdout",
     "output_type": "stream",
     "text": [
      "weakness   No  Yes\n",
      "Gender            \n",
      "Female     64  128\n",
      "Male      151  177\n"
     ]
    }
   ],
   "source": [
    "contingency_tab = pd.crosstab(df['Gender'], df['weakness'])\n",
    "print(contingency_tab)"
   ]
  },
  {
   "cell_type": "code",
   "execution_count": 10,
   "id": "a9881360",
   "metadata": {},
   "outputs": [
    {
     "name": "stdout",
     "output_type": "stream",
     "text": [
      "                    Gender  Polyuria  Polydipsia  sudden weight loss  \\\n",
      "Gender                True      True        True                True   \n",
      "Polyuria              True      True        True                True   \n",
      "Polydipsia            True      True        True                True   \n",
      "sudden weight loss    True      True        True                True   \n",
      "weakness             False      True        True                True   \n",
      "Polyphagia            True      True        True                True   \n",
      "Genital thrush        True     False       False               False   \n",
      "visual blurring       True      True        True               False   \n",
      "Itching              False     False       False               False   \n",
      "Irritability         False      True        True               False   \n",
      "delayed healing      False      True       False               False   \n",
      "partial paresis       True      True        True                True   \n",
      "muscle stiffness     False      True        True               False   \n",
      "Alopecia              True      True        True                True   \n",
      "Obesity              False     False       False                True   \n",
      "class                 True      True        True                True   \n",
      "\n",
      "                    weakness  Polyphagia  Genital thrush  visual blurring  \\\n",
      "Gender                 False        True            True             True   \n",
      "Polyuria                True        True           False             True   \n",
      "Polydipsia              True        True           False             True   \n",
      "sudden weight loss      True        True           False            False   \n",
      "weakness                True        True           False             True   \n",
      "Polyphagia              True        True           False             True   \n",
      "Genital thrush         False       False            True             True   \n",
      "visual blurring         True        True            True             True   \n",
      "Itching                 True        True           False             True   \n",
      "Irritability            True        True            True            False   \n",
      "delayed healing         True        True           False             True   \n",
      "partial paresis         True        True            True             True   \n",
      "muscle stiffness        True        True           False             True   \n",
      "Alopecia               False       False            True            False   \n",
      "Obesity                False       False           False            False   \n",
      "class                   True        True           False             True   \n",
      "\n",
      "                    Itching  Irritability  delayed healing  partial paresis  \\\n",
      "Gender                False         False            False             True   \n",
      "Polyuria              False          True             True             True   \n",
      "Polydipsia            False          True            False             True   \n",
      "sudden weight loss    False         False            False             True   \n",
      "weakness               True          True             True             True   \n",
      "Polyphagia             True          True             True             True   \n",
      "Genital thrush        False          True            False             True   \n",
      "visual blurring        True         False             True             True   \n",
      "Itching                True         False             True            False   \n",
      "Irritability          False          True            False             True   \n",
      "delayed healing        True         False             True             True   \n",
      "partial paresis       False          True             True             True   \n",
      "muscle stiffness       True          True             True             True   \n",
      "Alopecia               True         False             True             True   \n",
      "Obesity               False         False            False            False   \n",
      "class                 False          True            False             True   \n",
      "\n",
      "                    muscle stiffness  Alopecia  Obesity  class  \n",
      "Gender                         False      True    False   True  \n",
      "Polyuria                        True      True    False   True  \n",
      "Polydipsia                      True      True    False   True  \n",
      "sudden weight loss             False      True     True   True  \n",
      "weakness                        True     False    False   True  \n",
      "Polyphagia                      True     False    False   True  \n",
      "Genital thrush                 False      True    False  False  \n",
      "visual blurring                 True     False    False   True  \n",
      "Itching                         True      True    False  False  \n",
      "Irritability                    True     False    False   True  \n",
      "delayed healing                 True      True    False  False  \n",
      "partial paresis                 True      True    False   True  \n",
      "muscle stiffness                True     False     True  False  \n",
      "Alopecia                       False      True    False   True  \n",
      "Obesity                         True     False     True  False  \n",
      "class                          False      True    False   True  \n"
     ]
    }
   ],
   "source": [
    "df_without_age = df.drop(['Age'], axis=1)\n",
    "chi2 = 2.706 #chi2 at df 1 ( for 2x2 table)\n",
    "chi2_matrix = []\n",
    "for label_i in df_without_age.keys():\n",
    "    chi2_row = []\n",
    "    for label_j in df_without_age.keys():\n",
    "        # first generate a contingency table\n",
    "        contingency_tab = pd.crosstab(df_without_age[label_i], df_without_age[label_j])\n",
    "        # calculate the chi square value\n",
    "        chi, p, dof, expected = stats.chi2_contingency(contingency_tab)\n",
    "        chi2_row.append(chi>chi2)\n",
    "    chi2_matrix.append(chi2_row)\n",
    "labels_without_age = labels[1:]\n",
    "contingency_df = pd.DataFrame(data=chi2_matrix,index=labels_without_age, columns=labels_without_age)\n",
    "print(contingency_df)"
   ]
  }
 ],
 "metadata": {
  "kernelspec": {
   "display_name": "Python 3 (ipykernel)",
   "language": "python",
   "name": "python3"
  },
  "language_info": {
   "codemirror_mode": {
    "name": "ipython",
    "version": 3
   },
   "file_extension": ".py",
   "mimetype": "text/x-python",
   "name": "python",
   "nbconvert_exporter": "python",
   "pygments_lexer": "ipython3",
   "version": "3.9.7"
  }
 },
 "nbformat": 4,
 "nbformat_minor": 5
}
