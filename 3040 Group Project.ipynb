{
 "cells": [
  {
   "cell_type": "code",
   "execution_count": 25,
   "id": "bdcdbb69",
   "metadata": {},
   "outputs": [],
   "source": [
    "import numpy as np # mathematical operations and algebra\n",
    "import pandas as pd # data processing, CSV file I/O\n",
    "import seaborn as sns # Fancier visualizations\n",
    "sns.set(color_codes=True)\n",
    "import matplotlib.pyplot as plt # visualization library\n",
    "from tree import DesicionTreeNode, buildDecisionTree, buildGraph, evaluateTree\n",
    "import scipy.stats as stats"
   ]
  },
  {
   "cell_type": "markdown",
   "id": "3199e797",
   "metadata": {},
   "source": [
    "IMPORTING DATA\n",
    "\n",
    "Objective:\n",
    "-> Import data from CSV file into a padas DataFrame."
   ]
  },
  {
   "cell_type": "code",
   "execution_count": 26,
   "id": "835a47d2",
   "metadata": {},
   "outputs": [],
   "source": [
    "data = pd.read_csv (r'diabetes_data_upload.csv')\n",
    "labels = ['Age','Gender','Polyuria','Polydipsia','sudden weight loss','weakness','Polyphagia',\n",
    "'Genital thrush','visual blurring','Itching','Irritability','delayed healing','partial paresis',\n",
    "'muscle stiffness','Alopecia','Obesity','class']\n",
    "df = pd.DataFrame(data, columns= labels)"
   ]
  },
  {
   "cell_type": "markdown",
   "id": "d244a80f",
   "metadata": {},
   "source": [
    "DATA CLEANING\n",
    "\n",
    "Objective:\n",
    "-> Check if the data contains any null, missing, duplicate.\n",
    "-> If yes take appopriate action."
   ]
  },
  {
   "cell_type": "code",
   "execution_count": 27,
   "id": "7fc026a5",
   "metadata": {},
   "outputs": [
    {
     "name": "stdout",
     "output_type": "stream",
     "text": [
      "No missing values in data set: True\n"
     ]
    }
   ],
   "source": [
    "print(f'No missing values in data set: {not df.isnull().values.any()}')"
   ]
  },
  {
   "cell_type": "markdown",
   "id": "0f11e936",
   "metadata": {},
   "source": [
    "Since we have no missing values, no action is required. Our data is clean and we can proceed with the next step."
   ]
  },
  {
   "cell_type": "code",
   "execution_count": 28,
   "id": "cf82f488",
   "metadata": {},
   "outputs": [
    {
     "name": "stdout",
     "output_type": "stream",
     "text": [
      "The total number of dumplicated instances (counting the original) is 376\n",
      "The total number of dumplicated instances  (not counting the original) is: 269\n"
     ]
    }
   ],
   "source": [
    "# duplicate data\n",
    "\n",
    "print(f'The total number of dumplicated instances (counting the original) is {sum(df.duplicated(keep=False))}')\n",
    "print(f'The total number of dumplicated instances  (not counting the original) is: {sum(df.duplicated())}')"
   ]
  },
  {
   "cell_type": "markdown",
   "id": "7845143f",
   "metadata": {},
   "source": [
    "At first it seems like 269 out of 520 is a lot of duplicated values.\n",
    "Lets drop age as it is an obvious tie breaker between two rows. Then recalculate the duplicate values."
   ]
  },
  {
   "cell_type": "code",
   "execution_count": 29,
   "id": "0574eb85",
   "metadata": {},
   "outputs": [
    {
     "name": "stdout",
     "output_type": "stream",
     "text": [
      "Number of duplicate instances counting the original is 407\n",
      "Number of duplicate instances NOT counting the original is 305\n"
     ]
    }
   ],
   "source": [
    "df_without_age = df.drop(['Age'], axis=1)\n",
    "print(f'Number of duplicate instances counting the original is {sum(df_without_age.duplicated(keep=False))}')\n",
    "print(f'Number of duplicate instances NOT counting the original is {sum(df_without_age.duplicated())}')"
   ]
  },
  {
   "cell_type": "markdown",
   "id": "e336eb0d",
   "metadata": {},
   "source": [
    "It's a lotmore now (as expected) so let's take a look at some of these duplicate values:"
   ]
  },
  {
   "cell_type": "code",
   "execution_count": 30,
   "id": "b28e5fa9",
   "metadata": {},
   "outputs": [
    {
     "name": "stdout",
     "output_type": "stream",
     "text": [
      "     Age Gender Polyuria Polydipsia sudden weight loss weakness Polyphagia  \\\n",
      "374   27   Male       No         No                 No       No         No   \n",
      "286   27   Male       No         No                 No       No         No   \n",
      "465   27   Male       No         No                 No       No         No   \n",
      "474   27   Male       No         No                 No       No         No   \n",
      "\n",
      "    Genital thrush visual blurring Itching Irritability delayed healing  \\\n",
      "374             No              No      No           No              No   \n",
      "286             No              No      No           No              No   \n",
      "465             No              No      No           No              No   \n",
      "474             No              No      No           No              No   \n",
      "\n",
      "    partial paresis muscle stiffness Alopecia Obesity     class  \n",
      "374              No               No       No      No  Negative  \n",
      "286              No               No       No      No  Negative  \n",
      "465              No               No       No      No  Negative  \n",
      "474              No               No       No      No  Negative  \n"
     ]
    }
   ],
   "source": [
    "duplicated_data = df[df.duplicated()].sort_values(by='Age')\n",
    "print(duplicated_data[1:5])"
   ]
  },
  {
   "cell_type": "markdown",
   "id": "e36fc7b8",
   "metadata": {},
   "source": [
    "So most of these instances are simply copies of a few 'common' cases. This can be illustrated if we take a look at some of these instances.\n",
    "\n",
    "same something about why we used chi-2 etc."
   ]
  },
  {
   "cell_type": "code",
   "execution_count": 31,
   "id": "a9881360",
   "metadata": {},
   "outputs": [
    {
     "name": "stdout",
     "output_type": "stream",
     "text": [
      "                    Gender  Polyuria  Polydipsia  sudden weight loss  \\\n",
      "Gender                True      True        True                True   \n",
      "Polyuria              True      True        True                True   \n",
      "Polydipsia            True      True        True                True   \n",
      "sudden weight loss    True      True        True                True   \n",
      "weakness             False      True        True                True   \n",
      "Polyphagia            True      True        True                True   \n",
      "Genital thrush        True     False       False               False   \n",
      "visual blurring       True      True        True               False   \n",
      "Itching              False     False       False               False   \n",
      "Irritability         False      True        True               False   \n",
      "delayed healing      False      True       False               False   \n",
      "partial paresis       True      True        True                True   \n",
      "muscle stiffness     False      True        True               False   \n",
      "Alopecia              True     False        True                True   \n",
      "Obesity              False     False       False                True   \n",
      "class                 True      True        True                True   \n",
      "\n",
      "                    weakness  Polyphagia  Genital thrush  visual blurring  \\\n",
      "Gender                 False        True            True             True   \n",
      "Polyuria                True        True           False             True   \n",
      "Polydipsia              True        True           False             True   \n",
      "sudden weight loss      True        True           False            False   \n",
      "weakness                True        True           False             True   \n",
      "Polyphagia              True        True           False             True   \n",
      "Genital thrush         False       False            True            False   \n",
      "visual blurring         True        True           False             True   \n",
      "Itching                 True       False           False             True   \n",
      "Irritability           False        True            True            False   \n",
      "delayed healing         True        True           False             True   \n",
      "partial paresis         True        True            True             True   \n",
      "muscle stiffness        True        True           False             True   \n",
      "Alopecia               False       False            True            False   \n",
      "Obesity                False       False           False            False   \n",
      "class                   True        True           False             True   \n",
      "\n",
      "                    Itching  Irritability  delayed healing  partial paresis  \\\n",
      "Gender                False         False            False             True   \n",
      "Polyuria              False          True             True             True   \n",
      "Polydipsia            False          True            False             True   \n",
      "sudden weight loss    False         False            False             True   \n",
      "weakness               True         False             True             True   \n",
      "Polyphagia            False          True             True             True   \n",
      "Genital thrush        False          True            False             True   \n",
      "visual blurring        True         False             True             True   \n",
      "Itching                True         False             True            False   \n",
      "Irritability          False          True            False             True   \n",
      "delayed healing        True         False             True             True   \n",
      "partial paresis       False          True             True             True   \n",
      "muscle stiffness       True          True             True             True   \n",
      "Alopecia               True         False             True             True   \n",
      "Obesity               False         False            False            False   \n",
      "class                 False          True            False             True   \n",
      "\n",
      "                    muscle stiffness  Alopecia  Obesity  class  \n",
      "Gender                         False      True    False   True  \n",
      "Polyuria                        True     False    False   True  \n",
      "Polydipsia                      True      True    False   True  \n",
      "sudden weight loss             False      True     True   True  \n",
      "weakness                        True     False    False   True  \n",
      "Polyphagia                      True     False    False   True  \n",
      "Genital thrush                 False      True    False  False  \n",
      "visual blurring                 True     False    False   True  \n",
      "Itching                         True      True    False  False  \n",
      "Irritability                    True     False    False   True  \n",
      "delayed healing                 True      True    False  False  \n",
      "partial paresis                 True      True    False   True  \n",
      "muscle stiffness                True     False     True  False  \n",
      "Alopecia                       False      True    False   True  \n",
      "Obesity                         True     False     True  False  \n",
      "class                          False      True    False   True  \n"
     ]
    }
   ],
   "source": [
    "df_without_age = df.drop(['Age'], axis=1)\n",
    "chi2 = 10.828 #chi2 at df 1 ( for 2x2 table) 0.999 confidence\n",
    "chi2_matrix = []\n",
    "for label_i in df_without_age.keys():\n",
    "    chi2_row = []\n",
    "    for label_j in df_without_age.keys():\n",
    "        # first generate a contingency table\n",
    "        contingency_tab = pd.crosstab(df_without_age[label_i], df_without_age[label_j])\n",
    "        # calculate the chi square value\n",
    "        chi, p, dof, expected = stats.chi2_contingency(contingency_tab)\n",
    "        chi2_row.append(chi>chi2)\n",
    "    chi2_matrix.append(chi2_row)\n",
    "labels_without_age = labels[1:]\n",
    "contingency_df = pd.DataFrame(data=chi2_matrix,index=labels_without_age, columns=labels_without_age)\n",
    "print(contingency_df)"
   ]
  },
  {
   "cell_type": "markdown",
   "id": "8b90bdf7",
   "metadata": {},
   "source": [
    "DECISION TREE METHOD"
   ]
  },
  {
   "cell_type": "code",
   "execution_count": 32,
   "id": "7924a460",
   "metadata": {},
   "outputs": [],
   "source": [
    "# discretize the age into a few categories\n",
    "df_discretize = df.copy(deep=True)\n",
    "minAge = df_discretize.Age.min()\n",
    "maxAge = df_discretize.Age.max()\n",
    "range = maxAge - minAge\n",
    "df_discretize.Age = pd.cut(df[\"Age\"],\n",
    "       bins=[minAge, minAge + range/3, minAge + 2*range/3, maxAge], \n",
    "       labels=[\"Young\", \"Adult\", \"Old\"])"
   ]
  },
  {
   "cell_type": "code",
   "execution_count": 33,
   "id": "f601091b",
   "metadata": {},
   "outputs": [],
   "source": [
    "# divide the discretized data into training and test \n",
    "df_discretize_test = df_discretize.sample(n = 50, replace = False)\n",
    "df_discretize_training = df_discretize.copy(deep=True)\n",
    "df_discretize_training = df_discretize_training.drop(df_discretize_test.index)"
   ]
  },
  {
   "cell_type": "code",
   "execution_count": 34,
   "id": "dacd7f55",
   "metadata": {},
   "outputs": [
    {
     "name": "stdout",
     "output_type": "stream",
     "text": [
      "Accuracy:  0.96\n"
     ]
    }
   ],
   "source": [
    "# decision Tree\n",
    "root = buildDecisionTree(data=df_discretize_training, classAttribute='class')\n",
    "# draw it as a graph\n",
    "buildGraph(root).view()\n",
    "# calculate its accuracy\n",
    "print(\"Accuracy: \",evaluateTree(root,df_discretize_test,'class'))"
   ]
  },
  {
   "cell_type": "markdown",
   "id": "3c035b6f",
   "metadata": {},
   "source": [
    "KNN METHOD"
   ]
  },
  {
   "cell_type": "code",
   "execution_count": 35,
   "id": "bd90ccbe",
   "metadata": {},
   "outputs": [],
   "source": [
    "# normalize age (max min)\n",
    "normalized_age = (df.Age - df.Age.min()) / (df.Age.max() - df.Age.min())\n",
    "df_normalized = df.copy(deep=True)\n",
    "df_normalized.Age = normalized_age "
   ]
  },
  {
   "cell_type": "code",
   "execution_count": 36,
   "id": "7987fd73",
   "metadata": {},
   "outputs": [],
   "source": [
    "# divide the normalized data into training and test \n",
    "df_normalized_test = df_normalized.sample(n = 50, replace = False) # change test num from here\n",
    "df_normalized_training = df_normalized # no copy is needed because df_normalized is never used again\n",
    "df_normalized_training = df_normalized_training.drop(df_normalized_test.index)"
   ]
  },
  {
   "cell_type": "code",
   "execution_count": 37,
   "id": "32f72886",
   "metadata": {},
   "outputs": [
    {
     "name": "stdout",
     "output_type": "stream",
     "text": [
      "Accuracy:  0.9\n"
     ]
    }
   ],
   "source": [
    "symmetrical_attr_labels = ['Gender', 'Polyuria','Polydipsia','sudden weight loss','weakness','Polyphagia',\n",
    "'Genital thrush','visual blurring','Itching','Irritability','delayed healing','partial paresis',\n",
    "'muscle stiffness','Alopecia','Obesity'] # the assumption of symmetry might not be right idk!\n",
    "success = 0\n",
    "for index, data in df_normalized_test.iterrows():\n",
    "    distance = 0\n",
    "    for label in symmetrical_attr_labels:\n",
    "        distance += df_normalized_training[label] != data[label]\n",
    "    distance = distance / len(symmetrical_attr_labels) \n",
    "    distance += ((df_normalized_training.Age - data.Age) ** 2)**(1/2)\n",
    "    distance = distance / 2\n",
    "    df_normalized_training['distance'] = distance\n",
    "    knn = df_normalized_training.sort_values(by=['distance']).head(10) # change k value here\n",
    "    # print(knn) #uncomment to see the k nearest neighbours\n",
    "    if knn['class'].value_counts().idxmax() == data['class']:\n",
    "        success += 1\n",
    "\n",
    "print(\"Accuracy: \", success / df_normalized_test.shape[0])"
   ]
  },
  {
   "cell_type": "markdown",
   "id": "3a035622",
   "metadata": {},
   "source": [
    "BAYES METHOD"
   ]
  },
  {
   "cell_type": "code",
   "execution_count": 38,
   "id": "36a05e55",
   "metadata": {},
   "outputs": [
    {
     "name": "stdout",
     "output_type": "stream",
     "text": [
      "Accuracy:  0.72\n"
     ]
    }
   ],
   "source": [
    "def prob(data, value, attr, givenValue = None, givenAttr = None):\n",
    "    if (givenValue is not None and givenAttr is not None):\n",
    "        data = data[data[givenAttr] == givenValue]\n",
    "    value_count = data[attr].value_counts()\n",
    "    return value_count[value]/sum(value_count)\n",
    "\n",
    "labels = ['Age', 'Gender', 'Polyuria','Polydipsia','sudden weight loss','weakness','Polyphagia',\n",
    "'Genital thrush','visual blurring','Itching','Irritability','delayed healing','partial paresis',\n",
    "'muscle stiffness','Alopecia','Obesity']\n",
    "success = 0\n",
    "p_positive = prob(df_discretize_training, 'Positive', 'class') \n",
    "p_negative = 1 - p_positive\n",
    "for index, data in df_discretize_test.iterrows():\n",
    "    for label in labels:\n",
    "        value = data[label]\n",
    "        p_positive *= prob(df_discretize_training, value, label, 'Positive', 'class')\n",
    "        p_negative *= prob(df_discretize_training, value, label, 'Negative', 'class')\n",
    "    classification = \"Positive\" if p_positive > p_negative else \"Negative\"\n",
    "    if data['class'] == classification:\n",
    "        success += 1\n",
    "\n",
    "print(\"Accuracy: \", success / df_discretize_test.shape[0])\n",
    " "
   ]
  }
 ],
 "metadata": {
  "kernelspec": {
   "display_name": "Python 3 (ipykernel)",
   "language": "python",
   "name": "python3"
  },
  "language_info": {
   "codemirror_mode": {
    "name": "ipython",
    "version": 3
   },
   "file_extension": ".py",
   "mimetype": "text/x-python",
   "name": "python",
   "nbconvert_exporter": "python",
   "pygments_lexer": "ipython3",
   "version": "3.9.7"
  }
 },
 "nbformat": 4,
 "nbformat_minor": 5
}
